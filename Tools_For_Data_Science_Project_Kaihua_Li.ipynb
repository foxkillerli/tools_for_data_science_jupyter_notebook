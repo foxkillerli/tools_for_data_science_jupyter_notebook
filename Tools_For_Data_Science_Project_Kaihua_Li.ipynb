{
 "cells": [
  {
   "cell_type": "markdown",
   "metadata": {},
   "source": [
    "<center>\n",
    "    <img src=\"https://cf-courses-data.s3.us.cloud-object-storage.appdomain.cloud/IBMDeveloperSkillsNetwork-DS0105EN-SkillsNetwork/labs/Module2/images/SN_web_lightmode.png\" width=\"300\" alt=\"cognitiveclass.ai logo\">\n",
    "</center>\n"
   ]
  },
  {
   "cell_type": "markdown",
   "metadata": {},
   "source": [
    "#### Add your code below following the instructions given in the course\n"
   ]
  },
  {
   "cell_type": "markdown",
   "metadata": {
    "tags": []
   },
   "source": [
    "# Tools_For_Data_Science_Project_Kaihua_Li"
   ]
  },
  {
   "cell_type": "markdown",
   "metadata": {},
   "source": [
    "This is a jupyter notebook created for the final summative project for 'Tools for Data Science' module."
   ]
  },
  {
   "cell_type": "markdown",
   "metadata": {},
   "source": [
    "## Data Science Languages:\n",
    "1. Python: Widely used for data analysis, machine learning, and statistical analysis due to its simplicity and extensive libraries like NumPy, pandas, scikit-learn, and PyTorch.\n",
    "2. R: Specifically designed for statistical computing and graphics. It is highly favored for data analysis and visualization, with libraries like ggplot2 and dplyr.\n",
    "3. SQL: Essential for data manipulation and querying databases. It is often used to extract and manage data from relational databases.\n",
    "4. Julia: Known for its high performance and ease of use, Julia is gaining popularity for numerical and computational analysis.\n",
    "5. SAS: A software suite used for advanced analytics, multivariate analysis, business intelligence, and data management.\n",
    "6. Matlab: Used for numerical computing, it is particularly strong in matrix operations, and has a wide range of applications in data analysis and visualization.\n",
    "etc."
   ]
  },
  {
   "cell_type": "markdown",
   "metadata": {},
   "source": [
    "## Data Science Libraries:\n",
    "1. Numpy(Python): A fundamental library for numerical computing in Python, providing support for arrays and matrices.\n",
    "2. dplyr(R): A grammar of data manipulation, providing a consistent set of verbs that help you solve the most common data manipulation challenges.\n",
    "3. Spark MLlib(Scala): A scalable machine learning library that fits into the Apache Spark ecosystem for big data processing.\n",
    "4. Pandas(Python): A powerful data manipulation and analysis library for Python, offering data structures and operations for manipulating numerical tables and time series.\n",
    "5. SAS/STAT(SAS): Provides a comprehensive set of statistical tools to meet the data analysis needs of a wide variety of applications."
   ]
  },
  {
   "cell_type": "markdown",
   "metadata": {},
   "source": [
    "## Data Science Tools:\n",
    "| Language | Library       | Description                                                                 |\n",
    "|----------|---------------|-----------------------------------------------------------------------------|\n",
    "| Python   | NumPy         | A fundamental library for numerical computing in Python, providing support for arrays and matrices.  |\n",
    "| R        | dplyr         | A grammar of data manipulation, providing a consistent set of verbs that help you solve the most common data manipulation challenges.  |\n",
    "| Scala    | Spark MLlib   | A scalable machine learning library that fits into the Apache Spark ecosystem for big data processing.  |\n",
    "| Python   | Pandas        | A powerful data manipulation and analysis library for Python, offering data structures and operations for manipulating numerical tables and time series.  |\n",
    "| SAS      | SAS/STAT      | Provides a comprehensive set of statistical tools to meet the data analysis needs of a wide variety of applications.  |\n"
   ]
  },
  {
   "cell_type": "markdown",
   "metadata": {},
   "source": [
    "## Arithmetic Expressions\n",
    "Arithmetic expressions are combinations of numbers, operators, and sometimes parentheses, that represent mathematical computations such as addition, subtraction, multiplication, and division."
   ]
  },
  {
   "cell_type": "code",
   "execution_count": 2,
   "metadata": {
    "tags": []
   },
   "outputs": [
    {
     "name": "stdout",
     "output_type": "stream",
     "text": [
      "The result of 5 * 10 is: 50\n",
      "The result of 5 + 10 + 3 is: 18\n"
     ]
    }
   ],
   "source": [
    "# Define the numbers\n",
    "a = 5\n",
    "b = 10\n",
    "c = 3\n",
    "\n",
    "# Perform multiplication\n",
    "multiplication_result = a * b\n",
    "print(f\"The result of {a} * {b} is: {multiplication_result}\")\n",
    "\n",
    "# Perform addition\n",
    "addition_result = a + b + c\n",
    "print(f\"The result of {a} + {b} + {c} is: {addition_result}\")\n"
   ]
  },
  {
   "cell_type": "code",
   "execution_count": 3,
   "metadata": {
    "tags": []
   },
   "outputs": [
    {
     "name": "stdout",
     "output_type": "stream",
     "text": [
      "150 minutes is equal to 2.5 hours\n"
     ]
    }
   ],
   "source": [
    "# Define the number of minutes\n",
    "minutes = 150\n",
    "\n",
    "# Convert minutes to hours\n",
    "hours = minutes / 60\n",
    "\n",
    "# Print the result\n",
    "print(f\"{minutes} minutes is equal to {hours} hours\")\n"
   ]
  },
  {
   "cell_type": "markdown",
   "metadata": {},
   "source": [
    "## Objectives\n",
    "\n",
    "1. Understand basic arithmetic operations in Python.\n",
    "2. Learn how to create and use code cells in a Jupyter notebook.\n",
    "3. Convert units of time from minutes to hours.\n",
    "4. Perform basic data manipulation and analysis using Python libraries.\n",
    "5. Gain familiarity with markdown formatting for documentation.\n"
   ]
  },
  {
   "cell_type": "markdown",
   "metadata": {},
   "source": [
    "Author: Kaihua Li"
   ]
  }
 ],
 "metadata": {
  "kernelspec": {
   "display_name": "Python",
   "language": "python",
   "name": "conda-env-python-py"
  },
  "language_info": {
   "codemirror_mode": {
    "name": "ipython",
    "version": 3
   },
   "file_extension": ".py",
   "mimetype": "text/x-python",
   "name": "python",
   "nbconvert_exporter": "python",
   "pygments_lexer": "ipython3",
   "version": "3.7.12"
  }
 },
 "nbformat": 4,
 "nbformat_minor": 4
}
